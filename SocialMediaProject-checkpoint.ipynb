{
 "cells": [
  {
   "cell_type": "code",
   "execution_count": 1,
   "id": "42daff00-c335-4f0d-97d8-a02eecbd2c48",
   "metadata": {},
   "outputs": [],
   "source": [
    "# Dependencies and Setup\n",
    "import matplotlib.pyplot as plt\n",
    "import pandas as pd\n",
    "from pathlib import Path"
   ]
  },
  {
   "cell_type": "code",
   "execution_count": 2,
   "id": "844a9ff8-156b-4e09-b82d-5d60488f4b6f",
   "metadata": {},
   "outputs": [],
   "source": [
    "# Study data files\n",
    "social_media_path = \"../g1project/cleaned_smmh.csv\""
   ]
  },
  {
   "cell_type": "code",
   "execution_count": 3,
   "id": "879845e6-7ad4-43d8-8523-e50b3680ad63",
   "metadata": {},
   "outputs": [],
   "source": [
    "# Read the data\n",
    "social_media_data = pd.read_csv(social_media_path)"
   ]
  },
  {
   "cell_type": "code",
   "execution_count": 4,
   "id": "d3049c94-b576-404f-a30d-d76b889e9f1d",
   "metadata": {},
   "outputs": [
    {
     "data": {
      "text/html": [
       "<div>\n",
       "<style scoped>\n",
       "    .dataframe tbody tr th:only-of-type {\n",
       "        vertical-align: middle;\n",
       "    }\n",
       "\n",
       "    .dataframe tbody tr th {\n",
       "        vertical-align: top;\n",
       "    }\n",
       "\n",
       "    .dataframe thead th {\n",
       "        text-align: right;\n",
       "    }\n",
       "</style>\n",
       "<table border=\"1\" class=\"dataframe\">\n",
       "  <thead>\n",
       "    <tr style=\"text-align: right;\">\n",
       "      <th></th>\n",
       "      <th>Age</th>\n",
       "      <th>Gender</th>\n",
       "      <th>Relationship status</th>\n",
       "      <th>Occupation</th>\n",
       "      <th>Affiliated organizations</th>\n",
       "      <th>Social media use</th>\n",
       "      <th>Platforms</th>\n",
       "      <th>Hours per day</th>\n",
       "      <th>Frequency social media use w/o purpose</th>\n",
       "      <th>Frequency distracted by social media</th>\n",
       "      <th>...</th>\n",
       "      <th>Distracted easily</th>\n",
       "      <th>Level worriedness</th>\n",
       "      <th>Difficulty Concentrating</th>\n",
       "      <th>Frequency comparisons to others social media</th>\n",
       "      <th>Feelings about comparisons</th>\n",
       "      <th>Frequency seeking validation from social media</th>\n",
       "      <th>Frequency of depressed feelings</th>\n",
       "      <th>Fluctuation of interest daily activities</th>\n",
       "      <th>Issues sleeping</th>\n",
       "      <th>Total score</th>\n",
       "    </tr>\n",
       "  </thead>\n",
       "  <tbody>\n",
       "    <tr>\n",
       "      <th>0</th>\n",
       "      <td>21.0</td>\n",
       "      <td>Male</td>\n",
       "      <td>In a relationship</td>\n",
       "      <td>University Student</td>\n",
       "      <td>University</td>\n",
       "      <td>Yes</td>\n",
       "      <td>Facebook, Twitter, Instagram, YouTube, Discord...</td>\n",
       "      <td>Between 2 and 3 hours</td>\n",
       "      <td>5</td>\n",
       "      <td>3</td>\n",
       "      <td>...</td>\n",
       "      <td>5</td>\n",
       "      <td>2</td>\n",
       "      <td>5</td>\n",
       "      <td>2</td>\n",
       "      <td>3</td>\n",
       "      <td>2</td>\n",
       "      <td>5</td>\n",
       "      <td>4</td>\n",
       "      <td>5</td>\n",
       "      <td>43</td>\n",
       "    </tr>\n",
       "    <tr>\n",
       "      <th>1</th>\n",
       "      <td>21.0</td>\n",
       "      <td>Female</td>\n",
       "      <td>Single</td>\n",
       "      <td>University Student</td>\n",
       "      <td>University</td>\n",
       "      <td>Yes</td>\n",
       "      <td>Facebook, Twitter, Instagram, YouTube, Discord...</td>\n",
       "      <td>More than 5 hours</td>\n",
       "      <td>4</td>\n",
       "      <td>3</td>\n",
       "      <td>...</td>\n",
       "      <td>4</td>\n",
       "      <td>5</td>\n",
       "      <td>4</td>\n",
       "      <td>5</td>\n",
       "      <td>1</td>\n",
       "      <td>1</td>\n",
       "      <td>5</td>\n",
       "      <td>4</td>\n",
       "      <td>5</td>\n",
       "      <td>43</td>\n",
       "    </tr>\n",
       "    <tr>\n",
       "      <th>2</th>\n",
       "      <td>21.0</td>\n",
       "      <td>Female</td>\n",
       "      <td>Single</td>\n",
       "      <td>University Student</td>\n",
       "      <td>University</td>\n",
       "      <td>Yes</td>\n",
       "      <td>Facebook, Instagram, YouTube, Pinterest</td>\n",
       "      <td>Between 3 and 4 hours</td>\n",
       "      <td>3</td>\n",
       "      <td>2</td>\n",
       "      <td>...</td>\n",
       "      <td>2</td>\n",
       "      <td>5</td>\n",
       "      <td>4</td>\n",
       "      <td>3</td>\n",
       "      <td>3</td>\n",
       "      <td>1</td>\n",
       "      <td>4</td>\n",
       "      <td>2</td>\n",
       "      <td>5</td>\n",
       "      <td>35</td>\n",
       "    </tr>\n",
       "    <tr>\n",
       "      <th>3</th>\n",
       "      <td>21.0</td>\n",
       "      <td>Female</td>\n",
       "      <td>Single</td>\n",
       "      <td>University Student</td>\n",
       "      <td>University</td>\n",
       "      <td>Yes</td>\n",
       "      <td>Facebook, Instagram</td>\n",
       "      <td>More than 5 hours</td>\n",
       "      <td>4</td>\n",
       "      <td>2</td>\n",
       "      <td>...</td>\n",
       "      <td>3</td>\n",
       "      <td>5</td>\n",
       "      <td>3</td>\n",
       "      <td>5</td>\n",
       "      <td>1</td>\n",
       "      <td>2</td>\n",
       "      <td>4</td>\n",
       "      <td>3</td>\n",
       "      <td>2</td>\n",
       "      <td>35</td>\n",
       "    </tr>\n",
       "    <tr>\n",
       "      <th>4</th>\n",
       "      <td>21.0</td>\n",
       "      <td>Female</td>\n",
       "      <td>Single</td>\n",
       "      <td>University Student</td>\n",
       "      <td>University</td>\n",
       "      <td>Yes</td>\n",
       "      <td>Facebook, Instagram, YouTube</td>\n",
       "      <td>Between 2 and 3 hours</td>\n",
       "      <td>3</td>\n",
       "      <td>5</td>\n",
       "      <td>...</td>\n",
       "      <td>4</td>\n",
       "      <td>5</td>\n",
       "      <td>5</td>\n",
       "      <td>3</td>\n",
       "      <td>3</td>\n",
       "      <td>3</td>\n",
       "      <td>4</td>\n",
       "      <td>4</td>\n",
       "      <td>1</td>\n",
       "      <td>44</td>\n",
       "    </tr>\n",
       "  </tbody>\n",
       "</table>\n",
       "<p>5 rows × 21 columns</p>\n",
       "</div>"
      ],
      "text/plain": [
       "    Age  Gender Relationship status          Occupation  \\\n",
       "0  21.0    Male   In a relationship  University Student   \n",
       "1  21.0  Female              Single  University Student   \n",
       "2  21.0  Female              Single  University Student   \n",
       "3  21.0  Female              Single  University Student   \n",
       "4  21.0  Female              Single  University Student   \n",
       "\n",
       "  Affiliated organizations Social media use  \\\n",
       "0               University              Yes   \n",
       "1               University              Yes   \n",
       "2               University              Yes   \n",
       "3               University              Yes   \n",
       "4               University              Yes   \n",
       "\n",
       "                                           Platforms          Hours per day  \\\n",
       "0  Facebook, Twitter, Instagram, YouTube, Discord...  Between 2 and 3 hours   \n",
       "1  Facebook, Twitter, Instagram, YouTube, Discord...      More than 5 hours   \n",
       "2            Facebook, Instagram, YouTube, Pinterest  Between 3 and 4 hours   \n",
       "3                                Facebook, Instagram      More than 5 hours   \n",
       "4                       Facebook, Instagram, YouTube  Between 2 and 3 hours   \n",
       "\n",
       "   Frequency social media use w/o purpose  \\\n",
       "0                                       5   \n",
       "1                                       4   \n",
       "2                                       3   \n",
       "3                                       4   \n",
       "4                                       3   \n",
       "\n",
       "   Frequency distracted by social media  ...  Distracted easily  \\\n",
       "0                                     3  ...                  5   \n",
       "1                                     3  ...                  4   \n",
       "2                                     2  ...                  2   \n",
       "3                                     2  ...                  3   \n",
       "4                                     5  ...                  4   \n",
       "\n",
       "   Level worriedness  Difficulty Concentrating  \\\n",
       "0                  2                         5   \n",
       "1                  5                         4   \n",
       "2                  5                         4   \n",
       "3                  5                         3   \n",
       "4                  5                         5   \n",
       "\n",
       "   Frequency comparisons to others social media  Feelings about comparisons  \\\n",
       "0                                             2                           3   \n",
       "1                                             5                           1   \n",
       "2                                             3                           3   \n",
       "3                                             5                           1   \n",
       "4                                             3                           3   \n",
       "\n",
       "   Frequency seeking validation from social media  \\\n",
       "0                                               2   \n",
       "1                                               1   \n",
       "2                                               1   \n",
       "3                                               2   \n",
       "4                                               3   \n",
       "\n",
       "   Frequency of depressed feelings  Fluctuation of interest daily activities  \\\n",
       "0                                5                                         4   \n",
       "1                                5                                         4   \n",
       "2                                4                                         2   \n",
       "3                                4                                         3   \n",
       "4                                4                                         4   \n",
       "\n",
       "   Issues sleeping  Total score  \n",
       "0                5           43  \n",
       "1                5           43  \n",
       "2                5           35  \n",
       "3                2           35  \n",
       "4                1           44  \n",
       "\n",
       "[5 rows x 21 columns]"
      ]
     },
     "execution_count": 4,
     "metadata": {},
     "output_type": "execute_result"
    }
   ],
   "source": [
    "social_media_data.head()"
   ]
  },
  {
   "cell_type": "code",
   "execution_count": 5,
   "id": "65fea173-d105-4983-8811-b9cc710fe65b",
   "metadata": {},
   "outputs": [
    {
     "data": {
      "text/plain": [
       "46"
      ]
     },
     "execution_count": 5,
     "metadata": {},
     "output_type": "execute_result"
    }
   ],
   "source": [
    "len(social_media_data[\"Age\"].unique())"
   ]
  },
  {
   "cell_type": "code",
   "execution_count": 6,
   "id": "cd298bd7-5fbd-4290-90f1-5a50063df2a0",
   "metadata": {},
   "outputs": [],
   "source": [
    "# Define age groups\n",
    "bins = [0, 18, 25, 35, 45, 55, 65, 75]\n",
    "\n",
    "labels = '0-18', '19-25', '26-35', '36-45', '46-55', '55-65', '66+'\n"
   ]
  },
  {
   "cell_type": "code",
   "execution_count": 7,
   "id": "5b120c1e-bd25-4751-90f0-dc69e35b3173",
   "metadata": {},
   "outputs": [],
   "source": [
    "social_media_data['Age Group'] = pd.cut(social_media_data['Age'], bins=bins, labels=labels, right=False)\n",
    "                                    \n",
    "count_per_group = social_media_data['Age Group'].value_counts().sort_index()"
   ]
  },
  {
   "cell_type": "code",
   "execution_count": 8,
   "id": "bd250e56-b6b8-4982-9bc4-45f9aa756316",
   "metadata": {},
   "outputs": [
    {
     "data": {
      "image/png": "[encoded data removed]",
      "text/plain": [
       "<Figure size 640x480 with 1 Axes>"
      ]
     },
     "metadata": {},
     "output_type": "display_data"
    }
   ],
   "source": [
    "# Create a bar chart\n",
    "plt.bar(count_per_group.index, count_per_group, color='skyblue')\n",
    "plt.xlabel('Age Groups')\n",
    "plt.ylabel('Number of Individuals')\n",
    "plt.title('Distribution of Indivuals per Age Group')\n",
    "plt.show()\n",
    "        "
   ]
  },
  {
   "cell_type": "code",
   "execution_count": 9,
   "id": "1a5a60b5-61ac-4478-b355-fc3b5c23ef53",
   "metadata": {},
   "outputs": [
    {
     "name": "stdout",
     "output_type": "stream",
     "text": [
      "['University Student' 'School Student' 'Salaried Worker' 'Retired']\n"
     ]
    }
   ],
   "source": [
    "# Find the different occupations\n",
    "unique_occupations = social_media_data['Occupation'].unique()\n",
    "print(unique_occupations)"
   ]
  },
  {
   "cell_type": "code",
   "execution_count": 10,
   "id": "be8a54c4-722f-440c-a564-22b95d5dcd8e",
   "metadata": {},
   "outputs": [
    {
     "name": "stdout",
     "output_type": "stream",
     "text": [
      "['Between 2 and 3 hours' 'More than 5 hours' 'Between 3 and 4 hours'\n",
      " 'Less than an Hour' 'Between 1 and 2 hours' 'Between 4 and 5 hours']\n"
     ]
    }
   ],
   "source": [
    "hours_per_day = social_media_data['Hours per day'].unique()\n",
    "print(hours_per_day)"
   ]
  },
  {
   "cell_type": "code",
   "execution_count": 11,
   "id": "92a6c0f5-314e-459d-a02d-0b97f82d847c",
   "metadata": {},
   "outputs": [
    {
     "name": "stdout",
     "output_type": "stream",
     "text": [
      "            Occupation          Hours per day  Count\n",
      "0              Retired  Between 1 and 2 hours      2\n",
      "1              Retired  Between 2 and 3 hours      1\n",
      "2              Retired  Between 3 and 4 hours      2\n",
      "3              Retired  Between 4 and 5 hours      2\n",
      "4              Retired      More than 5 hours      1\n",
      "5      Salaried Worker  Between 1 and 2 hours     36\n",
      "6      Salaried Worker  Between 2 and 3 hours     33\n",
      "7      Salaried Worker  Between 3 and 4 hours     14\n",
      "8      Salaried Worker  Between 4 and 5 hours     13\n",
      "9      Salaried Worker      Less than an Hour     21\n",
      "10     Salaried Worker      More than 5 hours     15\n",
      "11      School Student  Between 1 and 2 hours      3\n",
      "12      School Student  Between 2 and 3 hours     13\n",
      "13      School Student  Between 3 and 4 hours      8\n",
      "14      School Student  Between 4 and 5 hours     12\n",
      "15      School Student      Less than an Hour      1\n",
      "16      School Student      More than 5 hours     12\n",
      "17  University Student  Between 1 and 2 hours     29\n",
      "18  University Student  Between 2 and 3 hours     54\n",
      "19  University Student  Between 3 and 4 hours     69\n",
      "20  University Student  Between 4 and 5 hours     40\n",
      "21  University Student      Less than an Hour     12\n",
      "22  University Student      More than 5 hours     88\n"
     ]
    }
   ],
   "source": [
    "#counting individuals for each combination\n",
    "counts = social_media_data.groupby(['Occupation', 'Hours per day']).size().reset_index(name='Count')\n",
    "\n",
    "\n",
    "print(counts)"
   ]
  },
  {
   "cell_type": "code",
   "execution_count": 12,
   "id": "bfd8f9e2-584a-4c2f-bf83-17ecb713b08f",
   "metadata": {},
   "outputs": [],
   "source": [
    "# group data by 'Occupation' and 'Hours per day'\n",
    "grouped_data = social_media_data.groupby(['Occupation', 'Hours per day']).size().unstack()"
   ]
  },
  {
   "cell_type": "code",
   "execution_count": 15,
   "id": "a24dd5d7-3d82-408d-8929-cd1e769b676e",
   "metadata": {},
   "outputs": [
    {
     "data": {
      "image/png": "[encoded data removed]",
      "text/plain": [
       "<Figure size 640x480 with 1 Axes>"
      ]
     },
     "metadata": {},
     "output_type": "display_data"
    }
   ],
   "source": [
    "#plot the bar chart\n",
    "grouped_data.plot(kind='bar', width=0.8)\n",
    "\n",
    "plt.title('Occupation vs Hours per day')\n",
    "plt.xlabel('Occupation')\n",
    "plt.ylabel('Count')\n",
    "plt.legend(title='Hours per day')\n",
    "plt.show()"
   ]
  },
  {
   "cell_type": "code",
   "execution_count": null,
   "id": "d14ab1f5-f90e-4164-96ae-8ece25bafe99",
   "metadata": {},
   "outputs": [],
   "source": []
  }
 ],
 "metadata": {
  "kernelspec": {
   "display_name": "Python 3 (ipykernel)",
   "language": "python",
   "name": "python3"
  },
  "language_info": {
   "codemirror_mode": {
    "name": "ipython",
    "version": 3
   },
   "file_extension": ".py",
   "mimetype": "text/x-python",
   "name": "python",
   "nbconvert_exporter": "python",
   "pygments_lexer": "ipython3",
   "version": "3.11.5"
  },
  "widgets": {
   "application/vnd.jupyter.widget-state+json": {
    "state": {},
    "version_major": 2,
    "version_minor": 0
   }
  }
 },
 "nbformat": 4,
 "nbformat_minor": 5
}
